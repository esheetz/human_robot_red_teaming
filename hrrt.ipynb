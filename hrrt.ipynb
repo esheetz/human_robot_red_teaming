{
  "nbformat": 4,
  "nbformat_minor": 0,
  "metadata": {
    "colab": {
      "provenance": [],
      "toc_visible": true
    },
    "kernelspec": {
      "name": "python3",
      "display_name": "Python 3"
    },
    "language_info": {
      "name": "python"
    }
  },
  "cells": [
    {
      "cell_type": "code",
      "source": [
        "domains = [\"lunar_habitat_airlock\"]"
      ],
      "metadata": {
        "id": "Vbs1ZPqpd_HP"
      },
      "execution_count": 1,
      "outputs": []
    },
    {
      "cell_type": "markdown",
      "source": [
        "# HRRT Utility Testing"
      ],
      "metadata": {
        "id": "r9knWIXXc1j3"
      }
    },
    {
      "cell_type": "code",
      "source": [
        "from google.colab import drive\n",
        "from google.colab import runtime\n",
        "drive.mount('/content/gdrive')\n",
        "%cd gdrive/MyDrive/Object\\ Affordances/HRRT/human_robot_red_teaming\n",
        "%ls"
      ],
      "metadata": {
        "colab": {
          "base_uri": "https://localhost:8080/"
        },
        "id": "qLaYZulMdLWc",
        "outputId": "eb7e0754-3efd-464d-ed4e-b2bab467b099"
      },
      "execution_count": 2,
      "outputs": [
        {
          "output_type": "stream",
          "name": "stdout",
          "text": [
            "Drive already mounted at /content/gdrive; to attempt to forcibly remount, call drive.mount(\"/content/gdrive\", force_remount=True).\n",
            "/content/gdrive/MyDrive/Object Affordances/HRRT/human_robot_red_teaming\n",
            "\u001b[0m\u001b[01;34mconfig\u001b[0m/  \u001b[01;34mdocs\u001b[0m/  hrrt.ipynb  README.md  \u001b[01;34msar\u001b[0m/  \u001b[01;34mscripts\u001b[0m/\n"
          ]
        }
      ]
    },
    {
      "cell_type": "code",
      "source": [
        "# %cd ../\n",
        "# %ls\n",
        "# %cd human_robot_red_teaming\n",
        "%cd scripts/\n",
        "%ls"
      ],
      "metadata": {
        "colab": {
          "base_uri": "https://localhost:8080/"
        },
        "id": "mIS4SWNGd1FU",
        "outputId": "5327766b-a314-40d9-ede9-e9378cebc560"
      },
      "execution_count": 3,
      "outputs": [
        {
          "output_type": "stream",
          "name": "stdout",
          "text": [
            "/content/gdrive/MyDrive/Object Affordances/HRRT/human_robot_red_teaming/scripts\n",
            "hrrt2.py  hrrt3.py  \u001b[0m\u001b[01;34m__pycache__\u001b[0m/  yaml_formatting_checks.py\n"
          ]
        }
      ]
    },
    {
      "cell_type": "markdown",
      "source": [
        "## Test Knowledge Base and Model Formatting"
      ],
      "metadata": {
        "id": "fEb18Oiog75M"
      }
    },
    {
      "cell_type": "code",
      "execution_count": 4,
      "metadata": {
        "colab": {
          "base_uri": "https://localhost:8080/"
        },
        "id": "EbSGrXbHcrcT",
        "outputId": "4b9791f6-35b3-448d-8b0e-7f5273a7b251"
      },
      "outputs": [
        {
          "output_type": "stream",
          "name": "stdout",
          "text": [
            "KNOWLEDGE BASE READING SUCCESSFUL!\n",
            "MODEL READING SUCCESSFUL!\n"
          ]
        }
      ],
      "source": [
        "from yaml_formatting_checks import KBFormatting, ModelFormatting\n",
        "\n",
        "kb_file = \"../config/lunar_habitat_airlock/knowledge_base.yaml\"\n",
        "model_file = \"../config/lunar_habitat_airlock/model0.yaml\"\n",
        "\n",
        "success, kb = KBFormatting.format_kb(kb_file)\n",
        "if success:\n",
        "  print(\"KNOWLEDGE BASE READING SUCCESSFUL!\")\n",
        "else:\n",
        "  print(\"Knowledge base reading failed :(\")\n",
        "\n",
        "succes, model = ModelFormatting.format_model(model_file)\n",
        "if success:\n",
        "  print(\"MODEL READING SUCCESSFUL!\")\n",
        "else:\n",
        "  print(\"Model reading failed :(\")"
      ]
    },
    {
      "cell_type": "markdown",
      "source": [
        "## Test HRRT Level 2"
      ],
      "metadata": {
        "id": "oI3kJH9fyiKz"
      }
    },
    {
      "cell_type": "code",
      "source": [
        "from hrrt2 import hrrt2, write_hrrt2_yaml\n",
        "\n",
        "possibilities = hrrt2(model)\n",
        "print(\"Found \" + str(len(possibilities)) + \" possibilities on level HRRT2!\")\n",
        "\n",
        "write_hrrt2_yaml(possibilities, model_file)\n",
        "\n",
        "print(\"LEVEL HRRT2 SUCCESSFUL!\")"
      ],
      "metadata": {
        "colab": {
          "base_uri": "https://localhost:8080/"
        },
        "id": "2eguRjUGygkE",
        "outputId": "9c837553-3409-407e-96ca-5a044190a091"
      },
      "execution_count": 5,
      "outputs": [
        {
          "output_type": "stream",
          "name": "stdout",
          "text": [
            "Found 30 possibilities on level HRRT2!\n",
            "Wrote data for HRRT Level 2 to file: ../config/lunar_habitat_airlock/model0_hrrt2.yaml\n",
            "LEVEL HRRT2 SUCCESSFUL!\n"
          ]
        }
      ]
    },
    {
      "cell_type": "markdown",
      "source": [
        "## Test HRRT Level 3"
      ],
      "metadata": {
        "id": "xA3_xG3gIoii"
      }
    },
    {
      "cell_type": "code",
      "source": [
        "from hrrt3 import hrrt3, write_hrrt3_yaml\n",
        "\n",
        "assumptions = hrrt3(model)\n",
        "pre_assump, post_add_assump, post_sub_assump = assumptions\n",
        "print(\"Found \" + str(len(pre_assump) + len(pre_assump) + len(pre_assump)) + \" assumptions on level HRRT3!\")\n",
        "\n",
        "write_hrrt3_yaml(assumptions, model_file)\n",
        "\n",
        "print(\"LEVEL HRRT3 SUCCESSFUL!\")"
      ],
      "metadata": {
        "id": "8gHm_c5t9h0P",
        "colab": {
          "base_uri": "https://localhost:8080/"
        },
        "outputId": "ad5f02ec-3e21-4931-f751-982ee96cc10b"
      },
      "execution_count": 6,
      "outputs": [
        {
          "output_type": "stream",
          "name": "stdout",
          "text": [
            "Implicit assumption that pre-condition state robot_inside_airlock can be achieved to perform action unlock_open_door_habitat_airlock\n",
            "    Is this assumption always valid? (Y/N) y\n",
            "Implicit assumption that pre-condition state robot_has_key can be achieved to perform action unlock_open_door_habitat_airlock\n",
            "    Is this assumption always valid? (Y/N) q\n",
            "Invalid input, please answer [Y/N] for yes or no.\n",
            "Implicit assumption that pre-condition state robot_has_key can be achieved to perform action unlock_open_door_habitat_airlock\n",
            "    Is this assumption always valid? (Y/N) n\n",
            "Implicit assumption that pre-condition state door_habitat_airlock_locked_closed can be achieved to perform action unlock_open_door_habitat_airlock\n",
            "    Is this assumption always valid? (Y/N) Y\n",
            "Implicit assumption that pre-condition state robot_outside_habitat can be achieved to perform action unlock_open_door_airlock_surface\n",
            "    Is this assumption always valid? (Y/N) Y\n",
            "Implicit assumption that pre-condition state robot_has_key can be achieved to perform action unlock_open_door_airlock_surface\n",
            "    Is this assumption always valid? (Y/N) N\n",
            "Implicit assumption that pre-condition state door_airlock_surface_locked_closed can be achieved to perform action unlock_open_door_airlock_surface\n",
            "    Is this assumption always valid? (Y/N) Y\n",
            "Implicit assumption that pre-condition state robot_inside_habitat can be achieved to perform action enter_airlock_from_habitat\n",
            "    Is this assumption always valid? (Y/N) Y\n",
            "Implicit assumption that pre-condition state door_habitat_airlock_unlocked_opened can be achieved to perform action enter_airlock_from_habitat\n",
            "    Is this assumption always valid? (Y/N) Y\n",
            "Implicit assumption that pre-condition state robot_inside_airlock can be achieved to perform action enter_surface_from_airlock\n",
            "    Is this assumption always valid? (Y/N) Y\n",
            "Implicit assumption that pre-condition state door_airlock_surface_unlocked_opened can be achieved to perform action enter_surface_from_airlock\n",
            "    Is this assumption always valid? (Y/N) Y\n",
            "Implicit assumption that pre-condition state robot_outside_habitat can be achieved to perform action enter_airlock_from_surface\n",
            "    Is this assumption always valid? (Y/N) Y\n",
            "Implicit assumption that pre-condition state door_airlock_surface_unlocked_opened can be achieved to perform action enter_airlock_from_surface\n",
            "    Is this assumption always valid? (Y/N) Y\n",
            "Implicit assumption that pre-condition state robot_inside_airlock can be achieved to perform action enter_habitat_from_airlock\n",
            "    Is this assumption always valid? (Y/N) Y\n",
            "Implicit assumption that pre-condition state door_habitat_airlock_unlocked_opened can be achieved to perform action enter_habitat_from_airlock\n",
            "    Is this assumption always valid? (Y/N) Y\n",
            "Implicit assumption that added post-condition state door_habitat_airlock_unlocked_opened will be achieved as a result of performing action unlock_open_door_habitat_airlock\n",
            "    Is this assumption always valid? (Y/N) Y\n",
            "Implicit assumption that added post-condition state door_airlock_surface_unlocked_opened will be achieved as a result of performing action unlock_open_door_airlock_surface\n",
            "    Is this assumption always valid? (Y/N) Y\n",
            "Implicit assumption that added post-condition state robot_inside_airlock will be achieved as a result of performing action enter_airlock_from_habitat\n",
            "    Is this assumption always valid? (Y/N) Y\n",
            "Implicit assumption that added post-condition state door_habitat_airlock_locked_closed will be achieved as a result of performing action enter_airlock_from_habitat\n",
            "    Is this assumption always valid? (Y/N) Y\n",
            "Implicit assumption that added post-condition state robot_outside_habitat will be achieved as a result of performing action enter_surface_from_airlock\n",
            "    Is this assumption always valid? (Y/N) Y\n",
            "Implicit assumption that added post-condition state door_airlock_surface_locked_closed will be achieved as a result of performing action enter_surface_from_airlock\n",
            "    Is this assumption always valid? (Y/N) Y\n",
            "Implicit assumption that added post-condition state robot_inside_airlock will be achieved as a result of performing action enter_airlock_from_surface\n",
            "    Is this assumption always valid? (Y/N) Y\n",
            "Implicit assumption that added post-condition state door_airlock_surface_locked_closed will be achieved as a result of performing action enter_airlock_from_surface\n",
            "    Is this assumption always valid? (Y/N) Y\n",
            "Implicit assumption that added post-condition state robot_inside_habitat will be achieved as a result of performing action enter_habitat_from_airlock\n",
            "    Is this assumption always valid? (Y/N) Y\n",
            "Implicit assumption that added post-condition state door_habitat_airlock_locked_closed will be achieved as a result of performing action enter_habitat_from_airlock\n",
            "    Is this assumption always valid? (Y/N) Y\n",
            "Implicit assumption that subtracted post-condition state door_habitat_airlock_locked_closed will be undone as a result of performing action unlock_open_door_habitat_airlock\n",
            "    Is this assumption always valid? (Y/N) Y\n",
            "Implicit assumption that subtracted post-condition state door_airlock_surface_locked_closed will be undone as a result of performing action unlock_open_door_airlock_surface\n",
            "    Is this assumption always valid? (Y/N) Y\n",
            "Implicit assumption that subtracted post-condition state robot_inside_habitat will be undone as a result of performing action enter_airlock_from_habitat\n",
            "    Is this assumption always valid? (Y/N) Y\n",
            "Implicit assumption that subtracted post-condition state door_habitat_airlock_unlocked_opened will be undone as a result of performing action enter_airlock_from_habitat\n",
            "    Is this assumption always valid? (Y/N) Y\n",
            "Implicit assumption that subtracted post-condition state robot_inside_airlock will be undone as a result of performing action enter_surface_from_airlock\n",
            "    Is this assumption always valid? (Y/N) Y\n",
            "Implicit assumption that subtracted post-condition state door_airlock_surface_unlocked_opened will be undone as a result of performing action enter_surface_from_airlock\n",
            "    Is this assumption always valid? (Y/N) Y\n",
            "Implicit assumption that subtracted post-condition state robot_outside_habitat will be undone as a result of performing action enter_airlock_from_surface\n",
            "    Is this assumption always valid? (Y/N) Y\n",
            "Implicit assumption that subtracted post-condition state door_airlock_surface_unlocked_opened will be undone as a result of performing action enter_airlock_from_surface\n",
            "    Is this assumption always valid? (Y/N) Y\n",
            "Implicit assumption that subtracted post-condition state robot_inside_airlock will be undone as a result of performing action enter_habitat_from_airlock\n",
            "    Is this assumption always valid? (Y/N) Y\n",
            "Implicit assumption that subtracted post-condition state door_habitat_airlock_unlocked_opened will be undone as a result of performing action enter_habitat_from_airlock\n",
            "    Is this assumption always valid? (Y/N) Y\n",
            "Found 42 assumptions on level HRRT3!\n",
            "Wrote data for HRRT Level 3 to file: ../config/lunar_habitat_airlock/model0_hrrt3.yaml\n",
            "LEVEL HRRT3 SUCCESSFUL!\n"
          ]
        }
      ]
    },
    {
      "cell_type": "code",
      "source": [],
      "metadata": {
        "id": "6TXfJ2AjJXB9"
      },
      "execution_count": 6,
      "outputs": []
    }
  ]
}