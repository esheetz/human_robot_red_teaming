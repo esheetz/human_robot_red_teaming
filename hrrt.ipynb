{
  "nbformat": 4,
  "nbformat_minor": 0,
  "metadata": {
    "colab": {
      "provenance": [],
      "toc_visible": true
    },
    "kernelspec": {
      "name": "python3",
      "display_name": "Python 3"
    },
    "language_info": {
      "name": "python"
    }
  },
  "cells": [
    {
      "cell_type": "code",
      "source": [
        "domains = [\"lunar_habitat_airlock\"]"
      ],
      "metadata": {
        "id": "Vbs1ZPqpd_HP"
      },
      "execution_count": 5,
      "outputs": []
    },
    {
      "cell_type": "markdown",
      "source": [
        "# HRRT Utility Testing"
      ],
      "metadata": {
        "id": "r9knWIXXc1j3"
      }
    },
    {
      "cell_type": "code",
      "source": [
        "from google.colab import drive\n",
        "from google.colab import runtime\n",
        "drive.mount('/content/gdrive')\n",
        "%cd gdrive/MyDrive/Object\\ Affordances/HRRT/human_robot_red_teaming\n",
        "%ls"
      ],
      "metadata": {
        "colab": {
          "base_uri": "https://localhost:8080/"
        },
        "id": "qLaYZulMdLWc",
        "outputId": "7707b12e-c6c5-4f4c-959a-45a8627431e1"
      },
      "execution_count": 6,
      "outputs": [
        {
          "output_type": "stream",
          "name": "stdout",
          "text": [
            "Drive already mounted at /content/gdrive; to attempt to forcibly remount, call drive.mount(\"/content/gdrive\", force_remount=True).\n",
            "[Errno 2] No such file or directory: 'gdrive/MyDrive/Object Affordances/HRRT/human_robot_red_teaming'\n",
            "/content/gdrive/MyDrive/Object Affordances/HRRT/human_robot_red_teaming/scripts\n",
            "hrrt2.py  \u001b[0m\u001b[01;34m__pycache__\u001b[0m/  yaml_formatting_checks.py\n"
          ]
        }
      ]
    },
    {
      "cell_type": "code",
      "source": [
        "# %cd ../\n",
        "# %ls\n",
        "# %cd human_robot_red_teaming\n",
        "%cd scripts/\n",
        "%ls"
      ],
      "metadata": {
        "colab": {
          "base_uri": "https://localhost:8080/"
        },
        "id": "mIS4SWNGd1FU",
        "outputId": "31abe585-580b-4c53-d073-30d48a3eadd3"
      },
      "execution_count": 7,
      "outputs": [
        {
          "output_type": "stream",
          "name": "stdout",
          "text": [
            "[Errno 2] No such file or directory: 'scripts/'\n",
            "/content/gdrive/MyDrive/Object Affordances/HRRT/human_robot_red_teaming/scripts\n",
            "hrrt2.py  \u001b[0m\u001b[01;34m__pycache__\u001b[0m/  yaml_formatting_checks.py\n"
          ]
        }
      ]
    },
    {
      "cell_type": "markdown",
      "source": [
        "## Test Knowledge Base and Model Formatting"
      ],
      "metadata": {
        "id": "fEb18Oiog75M"
      }
    },
    {
      "cell_type": "code",
      "execution_count": 8,
      "metadata": {
        "colab": {
          "base_uri": "https://localhost:8080/"
        },
        "id": "EbSGrXbHcrcT",
        "outputId": "d337ebf1-b932-45f2-db02-637786d08413"
      },
      "outputs": [
        {
          "output_type": "stream",
          "name": "stdout",
          "text": [
            "KNOWLEDGE BASE READING SUCCESSFUL!\n",
            "MODEL READING SUCCESSFUL!\n"
          ]
        }
      ],
      "source": [
        "from yaml_formatting_checks import KBFormatting, ModelFormatting\n",
        "\n",
        "kb_file = \"../config/lunar_habitat_airlock/knowledge_base.yaml\"\n",
        "model_file = \"../config/lunar_habitat_airlock/model0.yaml\"\n",
        "\n",
        "success, kb = KBFormatting.format_kb(kb_file)\n",
        "if success:\n",
        "  print(\"KNOWLEDGE BASE READING SUCCESSFUL!\")\n",
        "else:\n",
        "  print(\"Knowledge base reading failed :(\")\n",
        "\n",
        "succes, model = ModelFormatting.format_model(model_file)\n",
        "if success:\n",
        "  print(\"MODEL READING SUCCESSFUL!\")\n",
        "else:\n",
        "  print(\"Model reading failed :(\")"
      ]
    },
    {
      "cell_type": "markdown",
      "source": [
        "## Test HRRT Level 2"
      ],
      "metadata": {
        "id": "oI3kJH9fyiKz"
      }
    },
    {
      "cell_type": "code",
      "source": [
        "from hrrt2 import hrrt2, write_hrrt2_yaml\n",
        "\n",
        "possibilities = hrrt2(model)\n",
        "print(\"Found \" + str(len(possibilities)) + \" possibilities on level HRRT2!\")\n",
        "\n",
        "write_hrrt2_yaml(possibilities, model_file)\n",
        "\n",
        "print(\"LEVEL HRRT2 SUCCESSFUL!\")"
      ],
      "metadata": {
        "colab": {
          "base_uri": "https://localhost:8080/"
        },
        "id": "2eguRjUGygkE",
        "outputId": "233e9dae-46ea-489b-c0d4-01bda0426335"
      },
      "execution_count": 13,
      "outputs": [
        {
          "output_type": "stream",
          "name": "stdout",
          "text": [
            "FOUND 30 POSSIBILITIES ON HRRT2!\n",
            "Wrote data for HRRT Level 2 to file: ../config/lunar_habitat_airlock/model0_hrrt2.yaml\n"
          ]
        }
      ]
    },
    {
      "cell_type": "code",
      "source": [],
      "metadata": {
        "id": "8gHm_c5t9h0P"
      },
      "execution_count": null,
      "outputs": []
    }
  ]
}